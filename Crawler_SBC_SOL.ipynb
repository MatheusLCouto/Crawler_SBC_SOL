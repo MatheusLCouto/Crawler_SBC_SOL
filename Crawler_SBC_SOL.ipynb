{
 "cells": [
  {
   "cell_type": "markdown",
   "id": "f088d3f7",
   "metadata": {},
   "source": [
    "# Instalando Bibliotecas"
   ]
  },
  {
   "cell_type": "code",
   "execution_count": null,
   "id": "d77278cf",
   "metadata": {},
   "outputs": [],
   "source": [
    "!pip install tqdm -q"
   ]
  },
  {
   "cell_type": "markdown",
   "id": "5da0facc",
   "metadata": {},
   "source": [
    "# Importando Dependências"
   ]
  },
  {
   "cell_type": "code",
   "execution_count": null,
   "id": "06e7a374",
   "metadata": {},
   "outputs": [],
   "source": [
    "import os\n",
    "import requests\n",
    "from bs4 import BeautifulSoup\n",
    "import re\n",
    "import time\n",
    "from google.colab import drive\n",
    "from tqdm.notebook import tqdm"
   ]
  },
  {
   "cell_type": "markdown",
   "id": "1e34a989",
   "metadata": {},
   "source": [
    "# Carregando Google Drive"
   ]
  },
  {
   "cell_type": "code",
   "execution_count": null,
   "id": "e201cee1",
   "metadata": {},
   "outputs": [],
   "source": [
    "print(\"Montando o Google Drive...\")\n",
    "try:\n",
    "    drive.mount('/content/drive', force_remount=True)\n",
    "    print(\"Google Drive montado com sucesso!\")\n",
    "except Exception as e:\n",
    "    print(f\"Erro ao montar o Google Drive: {e}\")\n",
    "    # Se a montagem falhar, o script não pode continuar.\n",
    "    exit()\n"
   ]
  },
  {
   "cell_type": "markdown",
   "id": "b655834e",
   "metadata": {},
   "source": [
    "# Ferramenta de Download de Artigos da Biblioteca SOL"
   ]
  },
  {
   "cell_type": "markdown",
   "id": "0a033d3c",
   "metadata": {},
   "source": [
    "Definição do Caminho Onde Serão Salvos os Artigos"
   ]
  },
  {
   "cell_type": "code",
   "execution_count": null,
   "id": "e6426864",
   "metadata": {},
   "outputs": [],
   "source": [
    "BASE_PATH = \"/content/drive/MyDrive/\""
   ]
  },
  {
   "cell_type": "markdown",
   "id": "88cc6caf",
   "metadata": {},
   "source": [
    "Módulo Principal"
   ]
  },
  {
   "cell_type": "code",
   "execution_count": null,
   "id": "3d858a2a",
   "metadata": {},
   "outputs": [],
   "source": [
    "def sanitize_filename(filename):\n",
    "    \"\"\"Remove caracteres inválidos de um nome de arquivo.\"\"\"\n",
    "    sanitized = re.sub(r'[^\\w\\s\\-\\.]', '', filename.strip())\n",
    "    sanitized = re.sub(r'[-\\s]+', '_', sanitized)\n",
    "    return sanitized\n",
    "\n",
    "def extract_event_acronym(url):\n",
    "    \"\"\"Extrai a sigla do evento da URL.\"\"\"\n",
    "    match = re.search(r'index.php/(\\w+)(?:/|$)', url)\n",
    "    return match.group(1).upper() if match else \"EVENTO_DESCONHECIDO\"\n",
    "\n",
    "def create_output_folder(event_acronym):\n",
    "    \"\"\"Cria e retorna o caminho da pasta de saída.\"\"\"\n",
    "    output_folder = os.path.join(BASE_PATH, event_acronym)\n",
    "    os.makedirs(output_folder, exist_ok=True)\n",
    "    return output_folder\n",
    "\n",
    "def fetch_article_links(url):\n",
    "    \"\"\"Busca os links dos artigos na página principal do evento.\"\"\"\n",
    "    headers = {'User-Agent': 'Mozilla/5.0'}\n",
    "    response = requests.get(url, headers=headers)\n",
    "    response.raise_for_status()\n",
    "    soup = BeautifulSoup(response.content, 'html.parser')\n",
    "    return soup.find_all('div', class_='obj_article_summary')\n",
    "\n",
    "def download_article(article_div, output_folder, index):\n",
    "    \"\"\"Realiza o download de um único artigo em PDF.\"\"\"\n",
    "    headers = {'User-Agent': 'Mozilla/5.0'}\n",
    "    title_tag = article_div.find('div', class_='title')\n",
    "    title = title_tag.get_text(strip=True) if title_tag else f\"artigo_sem_titulo_{index}\"\n",
    "    link_tag = article_div.select_one('a.obj_galley_link.pdf')\n",
    "\n",
    "    if not (link_tag and link_tag.has_attr('href')):\n",
    "        return\n",
    "\n",
    "    reader_url = link_tag['href']\n",
    "    if '/view/' not in reader_url:\n",
    "        return\n",
    "\n",
    "    download_url = reader_url.replace('/view/', '/download/')\n",
    "    filename = sanitize_filename(title) + \".pdf\"\n",
    "    filepath = os.path.join(output_folder, filename)\n",
    "\n",
    "    try:\n",
    "        response = requests.get(download_url, headers=headers)\n",
    "        response.raise_for_status()\n",
    "        with open(filepath, 'wb') as f:\n",
    "            f.write(response.content)\n",
    "        time.sleep(0.5)\n",
    "    except requests.exceptions.RequestException:\n",
    "        return\n",
    "\n",
    "def download_sbc_articles(url):\n",
    "    \"\"\"Fluxo principal de download dos artigos de um evento da SBC.\"\"\"\n",
    "    event_acronym = extract_event_acronym(url)\n",
    "    print(f\"Evento: {event_acronym}\")\n",
    "\n",
    "    output_folder = create_output_folder(event_acronym)\n",
    "    print(f\"Pasta destino: {output_folder}\")\n",
    "\n",
    "    try:\n",
    "        articles = fetch_article_links(url)\n",
    "        if not articles:\n",
    "            print(\"Nenhum artigo encontrado.\")\n",
    "            return\n",
    "\n",
    "        print(f\"Total de artigos encontrados: {len(articles)}\\nIniciando download...\")\n",
    "        for i, article in enumerate(tqdm(articles, desc=\"Baixando artigos\")):\n",
    "            download_article(article, output_folder, i)\n",
    "\n",
    "        print(\"\\nDownload concluído.\")\n",
    "    except requests.exceptions.RequestException as e:\n",
    "        print(f\"Erro ao acessar a página: {e}\")\n"
   ]
  },
  {
   "cell_type": "markdown",
   "id": "0fc2dc5b",
   "metadata": {},
   "source": [
    "Iniciar Execução"
   ]
  },
  {
   "cell_type": "code",
   "execution_count": null,
   "id": "e7271e4b",
   "metadata": {},
   "outputs": [],
   "source": [
    "\n",
    "if __name__ == \"__main__\":\n",
    "    # Substitua pela URL do evento desejado\n",
    "    proceedings_url = \"https://sol.sbc.org.br/index.php/kdmile\"\n",
    "    download_sbc_articles(proceedings_url)\n"
   ]
  },
  {
   "cell_type": "code",
   "execution_count": null,
   "id": "086da0d0",
   "metadata": {},
   "outputs": [],
   "source": []
  }
 ],
 "metadata": {
  "language_info": {
   "name": "python"
  }
 },
 "nbformat": 4,
 "nbformat_minor": 5
}
